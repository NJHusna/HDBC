{
 "cells": [
  {
   "cell_type": "markdown",
   "metadata": {},
   "source": [
    "#### Loading the Data"
   ]
  },
  {
   "cell_type": "markdown",
   "metadata": {},
   "source": [
    "source: /raw_csv\n",
    "target: /stagging"
   ]
  },
  {
   "cell_type": "code",
   "execution_count": 1,
   "metadata": {},
   "outputs": [],
   "source": [
    "import duckdb\n",
    "from pathlib import Path"
   ]
  },
  {
   "cell_type": "code",
   "execution_count": 2,
   "metadata": {},
   "outputs": [],
   "source": [
    "data_folder = Path.cwd().parent / \"data\"\n",
    "db_path = Path.cwd().parent / \"hdbc.duckdb\""
   ]
  },
  {
   "cell_type": "code",
   "execution_count": 3,
   "metadata": {},
   "outputs": [],
   "source": [
    "conn = duckdb.connect(str(db_path))"
   ]
  },
  {
   "cell_type": "markdown",
   "metadata": {},
   "source": [
    "Load Tables"
   ]
  },
  {
   "cell_type": "code",
   "execution_count": 5,
   "metadata": {},
   "outputs": [],
   "source": [
    "raw_guest = conn.sql(f\"SELECT * FROM read_csv(?)\", params= [str(data_folder / \"raw_data\" / \"guest_info.csv\")])\n"
   ]
  },
  {
   "cell_type": "code",
   "execution_count": 6,
   "metadata": {},
   "outputs": [],
   "source": [
    "raw_booking = conn.sql(f\"SELECT * FROM read_csv('{data_folder / \"raw_data\" /  'booking_details.csv'}')\")"
   ]
  },
  {
   "cell_type": "code",
   "execution_count": 7,
   "metadata": {},
   "outputs": [],
   "source": [
    "# raw_cancellation = conn.sql(\"SELECT * FROM read_csv('Data_Storage\\\\raw_csv\\\\cancellation_records.csv')\")\n",
    "raw_cancellation = conn.sql(f\"SELECT * FROM read_csv('{data_folder / \"raw_data\" / 'cancellation_records.csv'}')\")"
   ]
  },
  {
   "cell_type": "code",
   "execution_count": 7,
   "metadata": {},
   "outputs": [],
   "source": [
    "conn.sql(\"CREATE TABLE stag_guest as (SELECT * FROM raw_guest)\")"
   ]
  },
  {
   "cell_type": "code",
   "execution_count": 8,
   "metadata": {},
   "outputs": [],
   "source": [
    "conn.sql(\"CREATE TABLE stag_booking as (SELECT * FROM raw_booking)\")"
   ]
  },
  {
   "cell_type": "code",
   "execution_count": 9,
   "metadata": {},
   "outputs": [],
   "source": [
    "conn.sql(\"CREATE TABLE stag_cancellation as (SELECT * FROM raw_cancellation)\")"
   ]
  },
  {
   "cell_type": "code",
   "execution_count": 13,
   "metadata": {},
   "outputs": [
    {
     "data": {
      "text/plain": [
       "┌───────────────────┬─────────────┬─────────┬─────────┬─────────┬─────────┐\n",
       "│    column_name    │ column_type │  null   │   key   │ default │  extra  │\n",
       "│      varchar      │   varchar   │ varchar │ varchar │ varchar │ varchar │\n",
       "├───────────────────┼─────────────┼─────────┼─────────┼─────────┼─────────┤\n",
       "│ booking_id        │ VARCHAR     │ YES     │ NULL    │ NULL    │ NULL    │\n",
       "│ name              │ VARCHAR     │ YES     │ NULL    │ NULL    │ NULL    │\n",
       "│ email             │ VARCHAR     │ YES     │ NULL    │ NULL    │ NULL    │\n",
       "│ phone-number      │ VARCHAR     │ YES     │ NULL    │ NULL    │ NULL    │\n",
       "│ credit_card       │ VARCHAR     │ YES     │ NULL    │ NULL    │ NULL    │\n",
       "│ adults            │ BIGINT      │ YES     │ NULL    │ NULL    │ NULL    │\n",
       "│ children          │ DOUBLE      │ YES     │ NULL    │ NULL    │ NULL    │\n",
       "│ babies            │ BIGINT      │ YES     │ NULL    │ NULL    │ NULL    │\n",
       "│ customer_type     │ VARCHAR     │ YES     │ NULL    │ NULL    │ NULL    │\n",
       "│ is_repeated_guest │ BIGINT      │ YES     │ NULL    │ NULL    │ NULL    │\n",
       "│ country           │ VARCHAR     │ YES     │ NULL    │ NULL    │ NULL    │\n",
       "├───────────────────┴─────────────┴─────────┴─────────┴─────────┴─────────┤\n",
       "│ 11 rows                                                       6 columns │\n",
       "└─────────────────────────────────────────────────────────────────────────┘"
      ]
     },
     "execution_count": 13,
     "metadata": {},
     "output_type": "execute_result"
    }
   ],
   "source": [
    "conn.sql(f\"DESCRIBE stag_guest\")"
   ]
  },
  {
   "cell_type": "code",
   "execution_count": 14,
   "metadata": {},
   "outputs": [
    {
     "data": {
      "text/plain": [
       "┌─────────────────────────────┬─────────────┬─────────┬─────────┬─────────┬─────────┐\n",
       "│         column_name         │ column_type │  null   │   key   │ default │  extra  │\n",
       "│           varchar           │   varchar   │ varchar │ varchar │ varchar │ varchar │\n",
       "├─────────────────────────────┼─────────────┼─────────┼─────────┼─────────┼─────────┤\n",
       "│ booking_id                  │ VARCHAR     │ YES     │ NULL    │ NULL    │ NULL    │\n",
       "│ hotel                       │ VARCHAR     │ YES     │ NULL    │ NULL    │ NULL    │\n",
       "│ lead_time                   │ BIGINT      │ YES     │ NULL    │ NULL    │ NULL    │\n",
       "│ arrival_date_year           │ BIGINT      │ YES     │ NULL    │ NULL    │ NULL    │\n",
       "│ arrival_date_month          │ VARCHAR     │ YES     │ NULL    │ NULL    │ NULL    │\n",
       "│ arrival_date_week_number    │ BIGINT      │ YES     │ NULL    │ NULL    │ NULL    │\n",
       "│ arrival_date_day_of_month   │ BIGINT      │ YES     │ NULL    │ NULL    │ NULL    │\n",
       "│ stays_in_weekend_nights     │ BIGINT      │ YES     │ NULL    │ NULL    │ NULL    │\n",
       "│ stays_in_week_nights        │ BIGINT      │ YES     │ NULL    │ NULL    │ NULL    │\n",
       "│ meal                        │ VARCHAR     │ YES     │ NULL    │ NULL    │ NULL    │\n",
       "│ market_segment              │ VARCHAR     │ YES     │ NULL    │ NULL    │ NULL    │\n",
       "│ distribution_channel        │ VARCHAR     │ YES     │ NULL    │ NULL    │ NULL    │\n",
       "│ reserved_room_type          │ VARCHAR     │ YES     │ NULL    │ NULL    │ NULL    │\n",
       "│ assigned_room_type          │ VARCHAR     │ YES     │ NULL    │ NULL    │ NULL    │\n",
       "│ booking_changes             │ BIGINT      │ YES     │ NULL    │ NULL    │ NULL    │\n",
       "│ deposit_type                │ VARCHAR     │ YES     │ NULL    │ NULL    │ NULL    │\n",
       "│ days_in_waiting_list        │ BIGINT      │ YES     │ NULL    │ NULL    │ NULL    │\n",
       "│ adr                         │ DOUBLE      │ YES     │ NULL    │ NULL    │ NULL    │\n",
       "│ required_car_parking_spaces │ BIGINT      │ YES     │ NULL    │ NULL    │ NULL    │\n",
       "│ total_of_special_requests   │ BIGINT      │ YES     │ NULL    │ NULL    │ NULL    │\n",
       "│ company                     │ DOUBLE      │ YES     │ NULL    │ NULL    │ NULL    │\n",
       "│ agent                       │ DOUBLE      │ YES     │ NULL    │ NULL    │ NULL    │\n",
       "├─────────────────────────────┴─────────────┴─────────┴─────────┴─────────┴─────────┤\n",
       "│ 22 rows                                                                 6 columns │\n",
       "└───────────────────────────────────────────────────────────────────────────────────┘"
      ]
     },
     "execution_count": 14,
     "metadata": {},
     "output_type": "execute_result"
    }
   ],
   "source": [
    "conn.sql(f\"DESCRIBE stag_booking\")"
   ]
  },
  {
   "cell_type": "code",
   "execution_count": 15,
   "metadata": {},
   "outputs": [
    {
     "data": {
      "text/plain": [
       "┌──────────┬─────────┬───────────────────┬──────────────────────┬──────────────────────────────────────────┬───────────┐\n",
       "│ database │ schema  │       name        │     column_names     │               column_types               │ temporary │\n",
       "│ varchar  │ varchar │      varchar      │      varchar[]       │                varchar[]                 │  boolean  │\n",
       "├──────────┼─────────┼───────────────────┼──────────────────────┼──────────────────────────────────────────┼───────────┤\n",
       "│ hdbc     │ main    │ stag_booking      │ [booking_id, hotel…  │ [VARCHAR, VARCHAR, BIGINT, BIGINT, VAR…  │ false     │\n",
       "│ hdbc     │ main    │ stag_cancellation │ [booking_id, is_ca…  │ [VARCHAR, BIGINT, VARCHAR, DATE, BIGIN…  │ false     │\n",
       "│ hdbc     │ main    │ stag_guest        │ [booking_id, name,…  │ [VARCHAR, VARCHAR, VARCHAR, VARCHAR, V…  │ false     │\n",
       "└──────────┴─────────┴───────────────────┴──────────────────────┴──────────────────────────────────────────┴───────────┘"
      ]
     },
     "execution_count": 15,
     "metadata": {},
     "output_type": "execute_result"
    }
   ],
   "source": [
    "conn.sql('show all tables')"
   ]
  },
  {
   "cell_type": "markdown",
   "metadata": {},
   "source": [
    "Write a table to a CSV file"
   ]
  },
  {
   "cell_type": "code",
   "execution_count": 13,
   "metadata": {},
   "outputs": [
    {
     "data": {
      "text/plain": [
       "<duckdb.duckdb.DuckDBPyConnection at 0x232de590bb0>"
      ]
     },
     "execution_count": 13,
     "metadata": {},
     "output_type": "execute_result"
    }
   ],
   "source": [
    "conn.execute(f\"COPY stag_guest TO '{data_folder}/stag_data/stag_guest.csv' (FORMAT CSV, DELIMITER '|', HEADER)\")"
   ]
  },
  {
   "cell_type": "code",
   "execution_count": 12,
   "metadata": {},
   "outputs": [
    {
     "data": {
      "text/plain": [
       "<duckdb.duckdb.DuckDBPyConnection at 0x232de590bb0>"
      ]
     },
     "execution_count": 12,
     "metadata": {},
     "output_type": "execute_result"
    }
   ],
   "source": [
    "conn.execute(f\"COPY stag_booking TO '{data_folder}/stag_data/stag_booking.csv'\")\n"
   ]
  },
  {
   "cell_type": "markdown",
   "metadata": {},
   "source": [
    "CREATE VIEW statement defines a new view in the catalog"
   ]
  },
  {
   "cell_type": "code",
   "execution_count": 4,
   "metadata": {},
   "outputs": [
    {
     "ename": "CatalogException",
     "evalue": "Catalog Error: View with name \"v_stag_booking\" already exists!",
     "output_type": "error",
     "traceback": [
      "\u001b[1;31m---------------------------------------------------------------------------\u001b[0m",
      "\u001b[1;31mCatalogException\u001b[0m                          Traceback (most recent call last)",
      "Cell \u001b[1;32mIn[4], line 1\u001b[0m\n\u001b[1;32m----> 1\u001b[0m \u001b[43mconn\u001b[49m\u001b[38;5;241;43m.\u001b[39;49m\u001b[43mexecute\u001b[49m\u001b[43m(\u001b[49m\u001b[38;5;124;43m\"\u001b[39;49m\u001b[38;5;124;43mCREATE VIEW v_stag_booking AS SELECT * FROM stag_booking\u001b[39;49m\u001b[38;5;124;43m\"\u001b[39;49m\u001b[43m)\u001b[49m\n",
      "\u001b[1;31mCatalogException\u001b[0m: Catalog Error: View with name \"v_stag_booking\" already exists!"
     ]
    }
   ],
   "source": [
    "conn.execute(\"CREATE VIEW v_stag_booking AS SELECT * FROM stag_booking\")"
   ]
  },
  {
   "cell_type": "markdown",
   "metadata": {},
   "source": [
    "Temporary Tables"
   ]
  },
  {
   "cell_type": "code",
   "execution_count": 6,
   "metadata": {},
   "outputs": [],
   "source": [
    "t_booking = conn.execute(f\"CREATE TEMP TABLE t_booking AS SELECT * FROM read_csv('{data_folder / 'raw_data' / 'booking_details.csv'}')\")"
   ]
  },
  {
   "cell_type": "markdown",
   "metadata": {},
   "source": []
  },
  {
   "cell_type": "code",
   "execution_count": 8,
   "metadata": {},
   "outputs": [],
   "source": [
    "conn.close()"
   ]
  }
 ],
 "metadata": {
  "kernelspec": {
   "display_name": "dbt-env",
   "language": "python",
   "name": "python3"
  },
  "language_info": {
   "codemirror_mode": {
    "name": "ipython",
    "version": 3
   },
   "file_extension": ".py",
   "mimetype": "text/x-python",
   "name": "python",
   "nbconvert_exporter": "python",
   "pygments_lexer": "ipython3",
   "version": "3.12.2"
  }
 },
 "nbformat": 4,
 "nbformat_minor": 2
}
