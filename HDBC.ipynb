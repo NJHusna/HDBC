{
 "cells": [
  {
   "cell_type": "markdown",
   "metadata": {},
   "source": [
    "#### Loading the Data"
   ]
  },
  {
   "cell_type": "markdown",
   "metadata": {},
   "source": [
    "source: /raw_csv\n",
    "target: /stagging"
   ]
  },
  {
   "cell_type": "code",
   "execution_count": 32,
   "metadata": {},
   "outputs": [],
   "source": [
    "import duckdb"
   ]
  },
  {
   "cell_type": "code",
   "execution_count": 33,
   "metadata": {},
   "outputs": [],
   "source": [
    "conn = duckdb.connect(\"hdbc.duckdb\")"
   ]
  },
  {
   "cell_type": "code",
   "execution_count": 21,
   "metadata": {},
   "outputs": [],
   "source": [
    "raw_guest = conn.sql(\"SELECT * FROM read_csv('Data_Storage\\\\raw_csv\\\\guest_info.csv')\")"
   ]
  },
  {
   "cell_type": "code",
   "execution_count": 22,
   "metadata": {},
   "outputs": [],
   "source": [
    "raw_booking = conn.sql(\"SELECT * FROM read_csv('Data_Storage\\\\raw_csv\\\\booking_details.csv')\")"
   ]
  },
  {
   "cell_type": "code",
   "execution_count": 23,
   "metadata": {},
   "outputs": [],
   "source": [
    "raw_cancellation = conn.sql(\"SELECT * FROM read_csv('Data_Storage\\\\raw_csv\\\\cancellation_records.csv')\")"
   ]
  },
  {
   "cell_type": "code",
   "execution_count": 24,
   "metadata": {},
   "outputs": [],
   "source": [
    "conn.sql(\"CREATE TABLE stag_guest as (SELECT * FROM raw_guest)\")"
   ]
  },
  {
   "cell_type": "code",
   "execution_count": 25,
   "metadata": {},
   "outputs": [],
   "source": [
    "conn.sql(\"CREATE TABLE stag_booking as (SELECT * FROM raw_booking)\")"
   ]
  },
  {
   "cell_type": "code",
   "execution_count": 26,
   "metadata": {},
   "outputs": [],
   "source": [
    "conn.sql(\"CREATE TABLE stag_cancellation as (SELECT * FROM raw_cancellation)\")"
   ]
  },
  {
   "cell_type": "code",
   "execution_count": 27,
   "metadata": {},
   "outputs": [
    {
     "data": {
      "text/plain": [
       "┌───────────────────┬─────────────┬─────────┬─────────┬─────────┬─────────┐\n",
       "│    column_name    │ column_type │  null   │   key   │ default │  extra  │\n",
       "│      varchar      │   varchar   │ varchar │ varchar │ varchar │ varchar │\n",
       "├───────────────────┼─────────────┼─────────┼─────────┼─────────┼─────────┤\n",
       "│ booking_id        │ VARCHAR     │ YES     │ NULL    │ NULL    │ NULL    │\n",
       "│ name              │ VARCHAR     │ YES     │ NULL    │ NULL    │ NULL    │\n",
       "│ email             │ VARCHAR     │ YES     │ NULL    │ NULL    │ NULL    │\n",
       "│ phone-number      │ VARCHAR     │ YES     │ NULL    │ NULL    │ NULL    │\n",
       "│ credit_card       │ VARCHAR     │ YES     │ NULL    │ NULL    │ NULL    │\n",
       "│ adults            │ BIGINT      │ YES     │ NULL    │ NULL    │ NULL    │\n",
       "│ children          │ DOUBLE      │ YES     │ NULL    │ NULL    │ NULL    │\n",
       "│ babies            │ BIGINT      │ YES     │ NULL    │ NULL    │ NULL    │\n",
       "│ customer_type     │ VARCHAR     │ YES     │ NULL    │ NULL    │ NULL    │\n",
       "│ is_repeated_guest │ BIGINT      │ YES     │ NULL    │ NULL    │ NULL    │\n",
       "│ country           │ VARCHAR     │ YES     │ NULL    │ NULL    │ NULL    │\n",
       "├───────────────────┴─────────────┴─────────┴─────────┴─────────┴─────────┤\n",
       "│ 11 rows                                                       6 columns │\n",
       "└─────────────────────────────────────────────────────────────────────────┘"
      ]
     },
     "execution_count": 27,
     "metadata": {},
     "output_type": "execute_result"
    }
   ],
   "source": [
    "conn.sql(f\"DESCRIBE stag_guest\")"
   ]
  },
  {
   "cell_type": "code",
   "execution_count": 28,
   "metadata": {},
   "outputs": [
    {
     "data": {
      "text/plain": [
       "┌─────────────────────────────┬─────────────┬─────────┬─────────┬─────────┬─────────┐\n",
       "│         column_name         │ column_type │  null   │   key   │ default │  extra  │\n",
       "│           varchar           │   varchar   │ varchar │ varchar │ varchar │ varchar │\n",
       "├─────────────────────────────┼─────────────┼─────────┼─────────┼─────────┼─────────┤\n",
       "│ booking_id                  │ VARCHAR     │ YES     │ NULL    │ NULL    │ NULL    │\n",
       "│ hotel                       │ VARCHAR     │ YES     │ NULL    │ NULL    │ NULL    │\n",
       "│ lead_time                   │ BIGINT      │ YES     │ NULL    │ NULL    │ NULL    │\n",
       "│ arrival_date_year           │ BIGINT      │ YES     │ NULL    │ NULL    │ NULL    │\n",
       "│ arrival_date_month          │ VARCHAR     │ YES     │ NULL    │ NULL    │ NULL    │\n",
       "│ arrival_date_week_number    │ BIGINT      │ YES     │ NULL    │ NULL    │ NULL    │\n",
       "│ arrival_date_day_of_month   │ BIGINT      │ YES     │ NULL    │ NULL    │ NULL    │\n",
       "│ stays_in_weekend_nights     │ BIGINT      │ YES     │ NULL    │ NULL    │ NULL    │\n",
       "│ stays_in_week_nights        │ BIGINT      │ YES     │ NULL    │ NULL    │ NULL    │\n",
       "│ meal                        │ VARCHAR     │ YES     │ NULL    │ NULL    │ NULL    │\n",
       "│ market_segment              │ VARCHAR     │ YES     │ NULL    │ NULL    │ NULL    │\n",
       "│ distribution_channel        │ VARCHAR     │ YES     │ NULL    │ NULL    │ NULL    │\n",
       "│ reserved_room_type          │ VARCHAR     │ YES     │ NULL    │ NULL    │ NULL    │\n",
       "│ assigned_room_type          │ VARCHAR     │ YES     │ NULL    │ NULL    │ NULL    │\n",
       "│ booking_changes             │ BIGINT      │ YES     │ NULL    │ NULL    │ NULL    │\n",
       "│ deposit_type                │ VARCHAR     │ YES     │ NULL    │ NULL    │ NULL    │\n",
       "│ days_in_waiting_list        │ BIGINT      │ YES     │ NULL    │ NULL    │ NULL    │\n",
       "│ adr                         │ DOUBLE      │ YES     │ NULL    │ NULL    │ NULL    │\n",
       "│ required_car_parking_spaces │ BIGINT      │ YES     │ NULL    │ NULL    │ NULL    │\n",
       "│ total_of_special_requests   │ BIGINT      │ YES     │ NULL    │ NULL    │ NULL    │\n",
       "│ company                     │ DOUBLE      │ YES     │ NULL    │ NULL    │ NULL    │\n",
       "│ agent                       │ DOUBLE      │ YES     │ NULL    │ NULL    │ NULL    │\n",
       "├─────────────────────────────┴─────────────┴─────────┴─────────┴─────────┴─────────┤\n",
       "│ 22 rows                                                                 6 columns │\n",
       "└───────────────────────────────────────────────────────────────────────────────────┘"
      ]
     },
     "execution_count": 28,
     "metadata": {},
     "output_type": "execute_result"
    }
   ],
   "source": [
    "conn.sql(f\"DESCRIBE stag_booking\")"
   ]
  },
  {
   "cell_type": "code",
   "execution_count": 34,
   "metadata": {},
   "outputs": [
    {
     "data": {
      "text/plain": [
       "┌───────────────────┐\n",
       "│       name        │\n",
       "│      varchar      │\n",
       "├───────────────────┤\n",
       "│ stag_booking      │\n",
       "│ stag_cancellation │\n",
       "│ stag_guest        │\n",
       "└───────────────────┘"
      ]
     },
     "execution_count": 34,
     "metadata": {},
     "output_type": "execute_result"
    }
   ],
   "source": [
    "conn.sql('show tables')"
   ]
  },
  {
   "cell_type": "code",
   "execution_count": 36,
   "metadata": {},
   "outputs": [],
   "source": [
    "conn.close()"
   ]
  },
  {
   "cell_type": "code",
   "execution_count": 12,
   "metadata": {},
   "outputs": [
    {
     "ename": "CatalogException",
     "evalue": "Catalog Error: Table with name dim_overview does not exist!\nDid you mean \"pg_views\"?",
     "output_type": "error",
     "traceback": [
      "\u001b[1;31m---------------------------------------------------------------------------\u001b[0m",
      "\u001b[1;31mCatalogException\u001b[0m                          Traceback (most recent call last)",
      "Cell \u001b[1;32mIn[12], line 1\u001b[0m\n\u001b[1;32m----> 1\u001b[0m \u001b[43mconn\u001b[49m\u001b[38;5;241;43m.\u001b[39;49m\u001b[43msql\u001b[49m\u001b[43m(\u001b[49m\u001b[38;5;124;43mf\u001b[39;49m\u001b[38;5;124;43m\"\u001b[39;49m\u001b[38;5;124;43mDESCRIBE dim_overview\u001b[39;49m\u001b[38;5;124;43m\"\u001b[39;49m\u001b[43m)\u001b[49m\n",
      "\u001b[1;31mCatalogException\u001b[0m: Catalog Error: Table with name dim_overview does not exist!\nDid you mean \"pg_views\"?"
     ]
    }
   ],
   "source": [
    "conn.sql(f\"DESCRIBE dim_overview\")"
   ]
  },
  {
   "cell_type": "code",
   "execution_count": null,
   "metadata": {},
   "outputs": [],
   "source": []
  },
  {
   "cell_type": "markdown",
   "metadata": {},
   "source": []
  }
 ],
 "metadata": {
  "kernelspec": {
   "display_name": "dbt-env",
   "language": "python",
   "name": "python3"
  },
  "language_info": {
   "codemirror_mode": {
    "name": "ipython",
    "version": 3
   },
   "file_extension": ".py",
   "mimetype": "text/x-python",
   "name": "python",
   "nbconvert_exporter": "python",
   "pygments_lexer": "ipython3",
   "version": "3.12.2"
  }
 },
 "nbformat": 4,
 "nbformat_minor": 2
}
